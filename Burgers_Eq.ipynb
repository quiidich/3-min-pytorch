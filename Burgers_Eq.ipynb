{
  "nbformat": 4,
  "nbformat_minor": 0,
  "metadata": {
    "colab": {
      "provenance": [],
      "authorship_tag": "ABX9TyNpmmD3L97eij60T0yiefQM",
      "include_colab_link": true
    },
    "kernelspec": {
      "name": "python3",
      "display_name": "Python 3"
    },
    "language_info": {
      "name": "python"
    }
  },
  "cells": [
    {
      "cell_type": "markdown",
      "metadata": {
        "id": "view-in-github",
        "colab_type": "text"
      },
      "source": [
        "<a href=\"https://colab.research.google.com/github/quiidich/3-min-pytorch/blob/master/Burgers_Eq.ipynb\" target=\"_parent\"><img src=\"https://colab.research.google.com/assets/colab-badge.svg\" alt=\"Open In Colab\"/></a>"
      ]
    },
    {
      "cell_type": "code",
      "execution_count": 14,
      "metadata": {
        "id": "76PCXI9TfvS5"
      },
      "outputs": [],
      "source": [
        "from random import uniform\n",
        "from functools import partial\n",
        "import numpy as np\n",
        "import matplotlib.pyplot as plt\n",
        "import torch\n",
        "import torch.nn as nn\n",
        "\n",
        "iter = 0"
      ]
    },
    {
      "cell_type": "code",
      "source": [
        "def set_seed(seed: int = 42):\n",
        "    torch.manual_seed(seed)\n",
        "    torch.cuda.manual_seed(seed)\n",
        "    torch.cuda.manual_seed_all(seed)\n",
        "    torch.backends.cudnn.deterministic = True\n",
        "    torch.backends.cudnn.benchmark = False"
      ],
      "metadata": {
        "id": "-TP7wsePf0sl"
      },
      "execution_count": 15,
      "outputs": []
    },
    {
      "cell_type": "code",
      "source": [
        "class BurgersNN(nn.Module):\n",
        "    def __init__(self,):\n",
        "        super(BurgersNN, self).__init__()\n",
        "        self.linear_in = nn.Linear(2, 20)\n",
        "        self.linear_out = nn.Linear(20, 1)\n",
        "        self.layers = nn.ModuleList([nn.Linear(20, 20) for i in range(8)])\n",
        "        self.act = nn.Tanh()\n",
        "\n",
        "    def forward(self, x):\n",
        "        x = self.linear_in(x)\n",
        "        x = self.act(x)\n",
        "        for layer in self.layers:\n",
        "            x = self.act(layer(x))\n",
        "        x = self.linear_out(x)\n",
        "        return x"
      ],
      "metadata": {
        "colab": {
          "base_uri": "https://localhost:8080/",
          "height": 115
        },
        "id": "5wY_7W-Yf3md",
        "outputId": "8d4cee21-cfa3-4359-ab88-0dc3e65d4019"
      },
      "execution_count": 16,
      "outputs": [
        {
          "output_type": "error",
          "ename": "SyntaxError",
          "evalue": "expected ':' (<ipython-input-16-803c85c0e200>, line 9)",
          "traceback": [
            "\u001b[0;36m  File \u001b[0;32m\"<ipython-input-16-803c85c0e200>\"\u001b[0;36m, line \u001b[0;32m9\u001b[0m\n\u001b[0;31m    def forward(self, x)\u001b[0m\n\u001b[0m                        ^\u001b[0m\n\u001b[0;31mSyntaxError\u001b[0m\u001b[0;31m:\u001b[0m expected ':'\n"
          ]
        }
      ]
    },
    {
      "cell_type": "code",
      "source": [
        "def derivative(dy, x, order):\n",
        "    for i in range(order):\n",
        "        dy = torch.autograd.grad(\n",
        "            dy, x, grad_outputs = torch.ones_like(dy), create_graph=True, retain_graph=True)[0]\n",
        "    return dy"
      ],
      "metadata": {
        "id": "uaVUs5kEf-4O"
      },
      "execution_count": null,
      "outputs": []
    },
    {
      "cell_type": "code",
      "source": [
        "def u_function(model, x, t):\n",
        "    model_input = torch.stack((x, t), axis = 1)\n",
        "    return model(model_input)"
      ],
      "metadata": {
        "id": "TcuAYYQXgCN1"
      },
      "execution_count": null,
      "outputs": []
    },
    {
      "cell_type": "code",
      "source": [
        "def f(model, x_f, t_f):\n",
        "    u = u_function(model, x_f, t_f)\n",
        "    u_t = derivative(u, t_f, order=1)\n",
        "    u_x = derivative(u, x_f, order=1)\n",
        "    u_xx = derivative(u, x_f, order=2)\n",
        "    f = u_t + u.T*u_x - (0.01/np.pi)*u_xx\n",
        "    return f"
      ],
      "metadata": {
        "id": "ao6fIzVBgFCO"
      },
      "execution_count": null,
      "outputs": []
    },
    {
      "cell_type": "code",
      "source": [
        "def loss_function(model, x_u, x_f, t_f, t_u, y_u):\n",
        "    u = u_function(model, x_f, t_f)\n",
        "    MSE_f = f(model, x_f, t_f).pow(2).mean()\n",
        "    MSE_u = (u_function(model, x_u, t_u)-y_u).pow(2).mean()\n",
        "    return MSE_f + MSE_u"
      ],
      "metadata": {
        "id": "agyuFeKQgHde"
      },
      "execution_count": null,
      "outputs": []
    },
    {
      "cell_type": "code",
      "source": [
        "def init_weights(m):\n",
        "    if type(m) == nn.Linear:\n",
        "        torch.nn.init.xavier_normal_(m.weight)\n",
        "        m.bias.data.fill_(0.01)"
      ],
      "metadata": {
        "id": "ZhGJWjBvgK2-"
      },
      "execution_count": null,
      "outputs": []
    },
    {
      "cell_type": "code",
      "source": [
        "def closure(model, optimizer, X_u_train, X_f_train, Y_u_train):\n",
        "    x_u = X_u_train[:, 0]\n",
        "    t_u = X_u_train[:, 1]\n",
        "    x_f = X_f_train[:, 0]\n",
        "    t_f = X_f_train[:, 1]\n",
        "    y_u = Y_u_train\n",
        "    optimizer.zero_grad()\n",
        "    loss = loss_function(model, x_u, x_f, t_f, t_u, y_u)\n",
        "    loss.backward()\n",
        "    global iter\n",
        "    iter += 1\n",
        "    if iter % 100 == 0:\n",
        "       print(f\" iteration: {iter}  loss: {loss.item()}\")\n",
        "    return loss"
      ],
      "metadata": {
        "id": "Sk7tH6dPgNal"
      },
      "execution_count": null,
      "outputs": []
    },
    {
      "cell_type": "code",
      "source": [
        "def train(model, X_u_train, X_f_train, u_train):\n",
        "    # Initialize the optimizer\n",
        "    optimizer = torch.optim.LBFGS(model.parameters(),\n",
        "                                    lr=1,\n",
        "                                    max_iter=50000,\n",
        "                                    max_eval=50000,\n",
        "                                    history_size=50,\n",
        "                                    tolerance_grad=1e-05,\n",
        "                                    tolerance_change=0.5 * np.finfo(float).eps,\n",
        "                                    line_search_fn=\"strong_wolfe\")\n",
        "\n",
        "    # the optimizer.step requires the closure function to be a callable function without inputs\n",
        "    # therefore we need to define a partial function and pass it to the optimizer\n",
        "    closure_fn = partial(closure, model, optimizer, X_u_train, X_f_train, u_train)\n",
        "    optimizer.step(closure_fn)"
      ],
      "metadata": {
        "id": "I8C-YsJCgQgu"
      },
      "execution_count": null,
      "outputs": []
    },
    {
      "cell_type": "code",
      "source": [
        "if __name__ == \"__main__\":\n",
        "    # Set seed for reproducibility\n",
        "    set_seed(42)\n",
        "\n",
        "    nu = 0.01 / np.pi         # constant in the diff. equation\n",
        "    N_u = 100                 # number of data points in the boundaries\n",
        "    N_f = 10000               # number of collocation points\n",
        "\n",
        "    # X_u_train: a set of pairs (x, t) located at:\n",
        "        # x =  1, t = [0,  1]\n",
        "        # x = -1, t = [0,  1]\n",
        "        # t =  0, x = [-1, 1]\n",
        "    x_upper = np.ones((N_u//4, 1), dtype=float)\n",
        "    x_lower = np.ones((N_u//4, 1), dtype=float) * (-1)\n",
        "    t_zero = np.zeros((N_u//2, 1), dtype=float)\n",
        "\n",
        "    t_upper = np.random.rand(N_u//4, 1)\n",
        "    t_lower = np.random.rand(N_u//4, 1)\n",
        "    x_zero = (-1) + np.random.rand(N_u//2, 1) * (1 - (-1))\n",
        "\n",
        "    # stack uppers, lowers and zeros:\n",
        "    X_upper = np.hstack( (x_upper, t_upper) )\n",
        "    X_lower = np.hstack( (x_lower, t_lower) )\n",
        "    X_zero = np.hstack( (x_zero, t_zero) )\n",
        "\n",
        "    # each one of these three arrays haS 2 columns,\n",
        "    # now we stack them vertically, the resulting array will also have 2\n",
        "    # columns and 100 rows:\n",
        "    X_u_train = np.vstack( (X_upper, X_lower, X_zero) )\n",
        "\n",
        "    # shuffle X_u_train:\n",
        "    index = np.arange(0, N_u)\n",
        "    np.random.shuffle(index)\n",
        "    X_u_train = X_u_train[index, :]\n",
        "\n",
        "    # make X_f_train:\n",
        "    X_f_train = np.zeros((N_f, 2), dtype=float)\n",
        "    for row in range(N_f):\n",
        "        x = uniform(-1, 1)  # x range\n",
        "        t = uniform( 0, 1)  # t range\n",
        "\n",
        "        X_f_train[row, 0] = x\n",
        "        X_f_train[row, 1] = t\n",
        "\n",
        "    # add the boundary points to the collocation points:\n",
        "    X_f_train = np.vstack( (X_f_train, X_u_train) )\n",
        "\n",
        "    # make u_train\n",
        "    u_upper =  np.zeros((N_u//4, 1), dtype=float)\n",
        "    u_lower =  np.zeros((N_u//4, 1), dtype=float)\n",
        "    u_zero = -np.sin(np.pi * x_zero)\n",
        "\n",
        "    # stack them in the same order as X_u_train was stacked:\n",
        "    u_train = np.vstack( (u_upper, u_lower, u_zero) )\n",
        "\n",
        "    # match indices with X_u_train\n",
        "    u_train = u_train[index, :]\n",
        "    # Model instantiation\n",
        "    model = BurgersNN()\n",
        "    model.apply(init_weights)\n",
        "    # Training\n",
        "    X_u_train = torch.from_numpy(X_u_train).requires_grad_(True).float()\n",
        "    X_f_train = torch.from_numpy(X_f_train).requires_grad_(True).float()\n",
        "    u_train = torch.from_numpy(u_train).requires_grad_(True).float()\n",
        "\n",
        "    model.train()\n",
        "    train(model, X_u_train, X_f_train, u_train)\n",
        "    # save the model\n",
        "#    torch.save(model.state_dict(), 'Burgers_Equation/models/model_LBFGS_shuffle_normal.pt')\n",
        ""
      ],
      "metadata": {
        "collapsed": true,
        "id": "g5ZJpPDtgVOV"
      },
      "execution_count": null,
      "outputs": []
    },
    {
      "cell_type": "code",
      "source": [
        "from mpl_toolkits.axes_grid1 import make_axes_locatable\n",
        "\n",
        "# load model\n",
        "model = BurgersNN()\n",
        "#model.load_state_dict(torch.load('Burgers_Equation/models/model_LBFGS_shuffle_normal.pt'))\n",
        "x = torch.linspace(-1, 1, 200)\n",
        "t = torch.linspace( 0, 1, 100)\n",
        "\n",
        "# x & t grids:\n",
        "X, T = torch.meshgrid(x, t)\n",
        "\n",
        "# x & t columns:\n",
        "xcol = X.reshape(-1, 1)\n",
        "tcol = T.reshape(-1, 1)\n",
        "input = torch.cat((xcol, tcol), 1)\n",
        "# one large column:\n",
        "usol = model(input)\n",
        "\n",
        "# reshape solution:\n",
        "U = usol.reshape(x.numel(), t.numel())\n",
        "\n",
        "# transform to numpy:\n",
        "xnp = x.numpy()\n",
        "tnp = t.numpy()\n",
        "Unp = U.detach().numpy()\n",
        "\n",
        "# plot:\n",
        "fig = plt.figure(figsize=(9, 4.5))\n",
        "ax = fig.add_subplot(111)\n",
        "\n",
        "h = ax.imshow(Unp,\n",
        "                interpolation='nearest',\n",
        "                cmap='rainbow',\n",
        "                extent=[tnp.min(), tnp.max(), xnp.min(), xnp.max()],\n",
        "                origin='lower', aspect='auto')\n",
        "divider = make_axes_locatable(ax)\n",
        "cax = divider.append_axes(\"right\", size=\"5%\", pad=0.10)\n",
        "cbar = fig.colorbar(h, cax=cax)\n",
        "cbar.ax.tick_params(labelsize=10)\n",
        "plt.show()"
      ],
      "metadata": {
        "colab": {
          "base_uri": "https://localhost:8080/",
          "height": 412
        },
        "id": "WhuVbh5HhMFn",
        "outputId": "c06fb29a-8d82-415c-ddce-8d6c7b178cc4"
      },
      "execution_count": 17,
      "outputs": [
        {
          "output_type": "display_data",
          "data": {
            "text/plain": [
              "<Figure size 900x450 with 2 Axes>"
            ],
            "image/png": "[encoded data removed]"
          },
          "metadata": {}
        }
      ]
    }
  ]
}